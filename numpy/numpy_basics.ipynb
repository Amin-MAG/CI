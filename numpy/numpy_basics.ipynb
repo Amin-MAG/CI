{
  "nbformat": 4,
  "nbformat_minor": 0,
  "metadata": {
    "colab": {
      "name": "numpy-tutorial",
      "provenance": [],
      "collapsed_sections": [
        "n-F1nMrR0D86",
        "W3gCzlt32C75",
        "xkc9lKjm5TlE",
        "ryH_aWi3-Xl-",
        "dK4RChU9Avmp",
        "n9d0pCiG-WFm",
        "ScwoHfM9Fg0U",
        "kJlP2cxqJRaQ"
      ],
      "toc_visible": true
    },
    "kernelspec": {
      "name": "python3",
      "display_name": "Python 3"
    },
    "language_info": {
      "name": "python"
    }
  },
  "cells": [
    {
      "cell_type": "code",
      "metadata": {
        "id": "D2QO3gN6ztbb"
      },
      "source": [
        "import numpy as np"
      ],
      "execution_count": null,
      "outputs": []
    },
    {
      "cell_type": "markdown",
      "metadata": {
        "id": "n-F1nMrR0D86"
      },
      "source": [
        "# The Basics"
      ]
    },
    {
      "cell_type": "code",
      "metadata": {
        "colab": {
          "base_uri": "https://localhost:8080/"
        },
        "id": "9hhWQT-Oz5iG",
        "outputId": "7f473953-832d-416f-8ed1-1d9b4e3fbd96"
      },
      "source": [
        "a = np.array([\n",
        "              [1, 2, 3],\n",
        "              [4, 5, 6]])\n",
        "print(a)"
      ],
      "execution_count": null,
      "outputs": [
        {
          "output_type": "stream",
          "text": [
            "[[1 2 3]\n",
            " [4 5 6]]\n"
          ],
          "name": "stdout"
        }
      ]
    },
    {
      "cell_type": "code",
      "metadata": {
        "colab": {
          "base_uri": "https://localhost:8080/"
        },
        "id": "rorUbRxk01UE",
        "outputId": "0ac9809e-1ca3-47ef-cabd-17bca1acbaf1"
      },
      "source": [
        "a.ndim"
      ],
      "execution_count": null,
      "outputs": [
        {
          "output_type": "execute_result",
          "data": {
            "text/plain": [
              "2"
            ]
          },
          "metadata": {
            "tags": []
          },
          "execution_count": 72
        }
      ]
    },
    {
      "cell_type": "code",
      "metadata": {
        "colab": {
          "base_uri": "https://localhost:8080/"
        },
        "id": "rWCevhm5027q",
        "outputId": "a9e2d545-53bd-4067-ed91-29d49195046c"
      },
      "source": [
        "a.shape"
      ],
      "execution_count": null,
      "outputs": [
        {
          "output_type": "execute_result",
          "data": {
            "text/plain": [
              "(2, 3)"
            ]
          },
          "metadata": {
            "tags": []
          },
          "execution_count": 73
        }
      ]
    },
    {
      "cell_type": "code",
      "metadata": {
        "colab": {
          "base_uri": "https://localhost:8080/"
        },
        "id": "KCEl20sU03ly",
        "outputId": "7703fa09-bdbd-4640-8aab-a0a387e9ce03"
      },
      "source": [
        "a.dtype"
      ],
      "execution_count": null,
      "outputs": [
        {
          "output_type": "execute_result",
          "data": {
            "text/plain": [
              "dtype('int64')"
            ]
          },
          "metadata": {
            "tags": []
          },
          "execution_count": 74
        }
      ]
    },
    {
      "cell_type": "code",
      "metadata": {
        "colab": {
          "base_uri": "https://localhost:8080/"
        },
        "id": "3U7-Jmag1PL6",
        "outputId": "49883488-391f-4269-a584-7e9e8eb558ff"
      },
      "source": [
        "a.itemsize"
      ],
      "execution_count": null,
      "outputs": [
        {
          "output_type": "execute_result",
          "data": {
            "text/plain": [
              "8"
            ]
          },
          "metadata": {
            "tags": []
          },
          "execution_count": 75
        }
      ]
    },
    {
      "cell_type": "code",
      "metadata": {
        "colab": {
          "base_uri": "https://localhost:8080/"
        },
        "id": "xvG8-vv21anJ",
        "outputId": "d0d5636b-12e5-4b69-b797-719642a11094"
      },
      "source": [
        "a.nbytes"
      ],
      "execution_count": null,
      "outputs": [
        {
          "output_type": "execute_result",
          "data": {
            "text/plain": [
              "48"
            ]
          },
          "metadata": {
            "tags": []
          },
          "execution_count": 76
        }
      ]
    },
    {
      "cell_type": "markdown",
      "metadata": {
        "id": "hje078Rh17Dh"
      },
      "source": [
        ""
      ]
    },
    {
      "cell_type": "markdown",
      "metadata": {
        "id": "g_voILvf2AMZ"
      },
      "source": [
        ""
      ]
    },
    {
      "cell_type": "markdown",
      "metadata": {
        "id": "W3gCzlt32C75"
      },
      "source": [
        "# Accessing/Changing elements"
      ]
    },
    {
      "cell_type": "code",
      "metadata": {
        "id": "J3NSR9o02gin"
      },
      "source": [
        "a = np.array([[1, 2, 3, 4, 5, 6, 7],[8, 9, 10 ,11 ,12, 13, 14]])"
      ],
      "execution_count": null,
      "outputs": []
    },
    {
      "cell_type": "code",
      "metadata": {
        "colab": {
          "base_uri": "https://localhost:8080/"
        },
        "id": "KI3F1Ypd2nh4",
        "outputId": "7a73eb15-bf05-4204-913f-e98ae8d1bfe5"
      },
      "source": [
        "a[1, -2]"
      ],
      "execution_count": null,
      "outputs": [
        {
          "output_type": "execute_result",
          "data": {
            "text/plain": [
              "13"
            ]
          },
          "metadata": {
            "tags": []
          },
          "execution_count": 122
        }
      ]
    },
    {
      "cell_type": "code",
      "metadata": {
        "colab": {
          "base_uri": "https://localhost:8080/"
        },
        "id": "MawhdoRb2w5P",
        "outputId": "64c8ec74-7de1-49d8-bdb5-9a93d1eabe4e"
      },
      "source": [
        "a[0, :]"
      ],
      "execution_count": null,
      "outputs": [
        {
          "output_type": "execute_result",
          "data": {
            "text/plain": [
              "array([1, 2, 3, 4, 5, 6, 7])"
            ]
          },
          "metadata": {
            "tags": []
          },
          "execution_count": 123
        }
      ]
    },
    {
      "cell_type": "code",
      "metadata": {
        "colab": {
          "base_uri": "https://localhost:8080/"
        },
        "id": "uZe8Lncd3B4m",
        "outputId": "d5bcf690-f991-4d04-c230-c942876ee9bc"
      },
      "source": [
        "a[:, -1]"
      ],
      "execution_count": null,
      "outputs": [
        {
          "output_type": "execute_result",
          "data": {
            "text/plain": [
              "array([ 7, 14])"
            ]
          },
          "metadata": {
            "tags": []
          },
          "execution_count": 124
        }
      ]
    },
    {
      "cell_type": "code",
      "metadata": {
        "colab": {
          "base_uri": "https://localhost:8080/"
        },
        "id": "FLhgfL9M3Z7l",
        "outputId": "48295ebd-221a-456c-fe48-66354e8a187d"
      },
      "source": [
        "a[:, :]"
      ],
      "execution_count": null,
      "outputs": [
        {
          "output_type": "execute_result",
          "data": {
            "text/plain": [
              "array([[ 1,  2,  3,  4,  5,  6,  7],\n",
              "       [ 8,  9, 10, 11, 12, 13, 14]])"
            ]
          },
          "metadata": {
            "tags": []
          },
          "execution_count": 125
        }
      ]
    },
    {
      "cell_type": "code",
      "metadata": {
        "colab": {
          "base_uri": "https://localhost:8080/"
        },
        "id": "gJruwGgq3eEV",
        "outputId": "987193cc-45ed-49cc-9731-ee723b4cddd0"
      },
      "source": [
        "a[1, 1:6:2]"
      ],
      "execution_count": null,
      "outputs": [
        {
          "output_type": "execute_result",
          "data": {
            "text/plain": [
              "array([ 9, 11, 13])"
            ]
          },
          "metadata": {
            "tags": []
          },
          "execution_count": 126
        }
      ]
    },
    {
      "cell_type": "code",
      "metadata": {
        "colab": {
          "base_uri": "https://localhost:8080/"
        },
        "id": "sBCrmSLL31qS",
        "outputId": "ef37076b-9a56-4dec-c8c2-b8859bd0519e"
      },
      "source": [
        "a[1, 1] = 100\n",
        "a"
      ],
      "execution_count": null,
      "outputs": [
        {
          "output_type": "execute_result",
          "data": {
            "text/plain": [
              "array([[  1,   2,   3,   4,   5,   6,   7],\n",
              "       [  8, 100,  10,  11,  12,  13,  14]])"
            ]
          },
          "metadata": {
            "tags": []
          },
          "execution_count": 127
        }
      ]
    },
    {
      "cell_type": "code",
      "metadata": {
        "colab": {
          "base_uri": "https://localhost:8080/"
        },
        "id": "pHcT4c6I31nZ",
        "outputId": "c4030883-044b-4c2a-ebb2-982a58e84051"
      },
      "source": [
        "a[1, 2:] = 99\n",
        "a"
      ],
      "execution_count": null,
      "outputs": [
        {
          "output_type": "execute_result",
          "data": {
            "text/plain": [
              "array([[  1,   2,   3,   4,   5,   6,   7],\n",
              "       [  8, 100,  99,  99,  99,  99,  99]])"
            ]
          },
          "metadata": {
            "tags": []
          },
          "execution_count": 128
        }
      ]
    },
    {
      "cell_type": "code",
      "metadata": {
        "colab": {
          "base_uri": "https://localhost:8080/"
        },
        "id": "AdCHbARt4Y61",
        "outputId": "f3752cfb-c005-453e-c493-0e42a5c06dfc"
      },
      "source": [
        "b = np.array([[\n",
        "               [1,2],\n",
        "               [3, 4]\n",
        "              ],\n",
        "              [\n",
        "               [5, 6],\n",
        "               [7, 8]\n",
        "              ]])\n",
        "b"
      ],
      "execution_count": null,
      "outputs": [
        {
          "output_type": "execute_result",
          "data": {
            "text/plain": [
              "array([[[1, 2],\n",
              "        [3, 4]],\n",
              "\n",
              "       [[5, 6],\n",
              "        [7, 8]]])"
            ]
          },
          "metadata": {
            "tags": []
          },
          "execution_count": 129
        }
      ]
    },
    {
      "cell_type": "code",
      "metadata": {
        "colab": {
          "base_uri": "https://localhost:8080/"
        },
        "id": "1APxqIp24xJL",
        "outputId": "c4fb7d9a-8ee5-4392-ad93-6d1a1a932ac9"
      },
      "source": [
        "b[0, 0]"
      ],
      "execution_count": null,
      "outputs": [
        {
          "output_type": "execute_result",
          "data": {
            "text/plain": [
              "array([1, 2])"
            ]
          },
          "metadata": {
            "tags": []
          },
          "execution_count": 130
        }
      ]
    },
    {
      "cell_type": "code",
      "metadata": {
        "colab": {
          "base_uri": "https://localhost:8080/"
        },
        "id": "CkIdkFJn44oD",
        "outputId": "79ba94f9-8ba2-4e3f-b707-b1357aed58a5"
      },
      "source": [
        "b[:, 1, :]"
      ],
      "execution_count": null,
      "outputs": [
        {
          "output_type": "execute_result",
          "data": {
            "text/plain": [
              "array([[3, 4],\n",
              "       [7, 8]])"
            ]
          },
          "metadata": {
            "tags": []
          },
          "execution_count": 131
        }
      ]
    },
    {
      "cell_type": "code",
      "metadata": {
        "id": "su3JP_Hz5DHM"
      },
      "source": [
        ""
      ],
      "execution_count": null,
      "outputs": []
    },
    {
      "cell_type": "markdown",
      "metadata": {
        "id": "xkc9lKjm5TlE"
      },
      "source": [
        "# Initialize arrray types"
      ]
    },
    {
      "cell_type": "code",
      "metadata": {
        "colab": {
          "base_uri": "https://localhost:8080/"
        },
        "id": "H_p_jv9U5Znr",
        "outputId": "914bda1e-b511-481b-8250-3c84426ed568"
      },
      "source": [
        "np.zeros((2, 3, 4))"
      ],
      "execution_count": null,
      "outputs": [
        {
          "output_type": "execute_result",
          "data": {
            "text/plain": [
              "array([[[0., 0., 0., 0.],\n",
              "        [0., 0., 0., 0.],\n",
              "        [0., 0., 0., 0.]],\n",
              "\n",
              "       [[0., 0., 0., 0.],\n",
              "        [0., 0., 0., 0.],\n",
              "        [0., 0., 0., 0.]]])"
            ]
          },
          "metadata": {
            "tags": []
          },
          "execution_count": 132
        }
      ]
    },
    {
      "cell_type": "code",
      "metadata": {
        "colab": {
          "base_uri": "https://localhost:8080/"
        },
        "id": "fEew5WYu5vK6",
        "outputId": "ef251b36-1469-43c9-f65e-1ba2c35c997e"
      },
      "source": [
        "np.ones((2, 3, 4), dtype='int32')"
      ],
      "execution_count": null,
      "outputs": [
        {
          "output_type": "execute_result",
          "data": {
            "text/plain": [
              "array([[[1, 1, 1, 1],\n",
              "        [1, 1, 1, 1],\n",
              "        [1, 1, 1, 1]],\n",
              "\n",
              "       [[1, 1, 1, 1],\n",
              "        [1, 1, 1, 1],\n",
              "        [1, 1, 1, 1]]], dtype=int32)"
            ]
          },
          "metadata": {
            "tags": []
          },
          "execution_count": 133
        }
      ]
    },
    {
      "cell_type": "code",
      "metadata": {
        "colab": {
          "base_uri": "https://localhost:8080/"
        },
        "id": "_LPQn-t853iP",
        "outputId": "27077353-affc-45f5-d9e7-f8e43e56e897"
      },
      "source": [
        "np.full((2, 3, 4), 99, dtype='float')"
      ],
      "execution_count": null,
      "outputs": [
        {
          "output_type": "execute_result",
          "data": {
            "text/plain": [
              "array([[[99., 99., 99., 99.],\n",
              "        [99., 99., 99., 99.],\n",
              "        [99., 99., 99., 99.]],\n",
              "\n",
              "       [[99., 99., 99., 99.],\n",
              "        [99., 99., 99., 99.],\n",
              "        [99., 99., 99., 99.]]])"
            ]
          },
          "metadata": {
            "tags": []
          },
          "execution_count": 134
        }
      ]
    },
    {
      "cell_type": "code",
      "metadata": {
        "colab": {
          "base_uri": "https://localhost:8080/"
        },
        "id": "bJjPASdO581d",
        "outputId": "7e9719c6-8f17-47cb-8a25-3ea9dc94e78b"
      },
      "source": [
        "np.random.rand(2, 3, 4)"
      ],
      "execution_count": null,
      "outputs": [
        {
          "output_type": "execute_result",
          "data": {
            "text/plain": [
              "array([[[0.42466042, 0.6350687 , 0.02260266, 0.86636136],\n",
              "        [0.70228754, 0.28496984, 0.63658261, 0.31801284],\n",
              "        [0.2127647 , 0.87537551, 0.59166387, 0.63270241]],\n",
              "\n",
              "       [[0.11499584, 0.20103765, 0.32224526, 0.87201579],\n",
              "        [0.40802749, 0.14485466, 0.46680983, 0.53973548],\n",
              "        [0.38381712, 0.75445923, 0.41927258, 0.17651435]]])"
            ]
          },
          "metadata": {
            "tags": []
          },
          "execution_count": 135
        }
      ]
    },
    {
      "cell_type": "code",
      "metadata": {
        "colab": {
          "base_uri": "https://localhost:8080/"
        },
        "id": "78xbLArY60AK",
        "outputId": "a7fa7ce0-b31d-4a81-c34e-3998cd1c5b65"
      },
      "source": [
        "np.random.randint(-10, 10, size=(2, 3, 4))"
      ],
      "execution_count": null,
      "outputs": [
        {
          "output_type": "execute_result",
          "data": {
            "text/plain": [
              "array([[[  1,   6,  -9,   9],\n",
              "        [ -1,  -6, -10,   9],\n",
              "        [  8,  -7,  -4,  -9]],\n",
              "\n",
              "       [[ -3,   8,  -3,   4],\n",
              "        [ -2,  -6,   3,   8],\n",
              "        [ -1,  -2,   5,  -4]]])"
            ]
          },
          "metadata": {
            "tags": []
          },
          "execution_count": 136
        }
      ]
    },
    {
      "cell_type": "code",
      "metadata": {
        "colab": {
          "base_uri": "https://localhost:8080/"
        },
        "id": "TDew74lL7GoJ",
        "outputId": "c8ae9217-0bfc-47c6-c2c9-6b93b3d09edd"
      },
      "source": [
        "np.identity(4)"
      ],
      "execution_count": null,
      "outputs": [
        {
          "output_type": "execute_result",
          "data": {
            "text/plain": [
              "array([[1., 0., 0., 0.],\n",
              "       [0., 1., 0., 0.],\n",
              "       [0., 0., 1., 0.],\n",
              "       [0., 0., 0., 1.]])"
            ]
          },
          "metadata": {
            "tags": []
          },
          "execution_count": 137
        }
      ]
    },
    {
      "cell_type": "markdown",
      "metadata": {
        "id": "2Dg1GI0_7rmb"
      },
      "source": [
        "Create a matrix 11 by 11 that the surounding are 1 and the center is 9. The other should be zero."
      ]
    },
    {
      "cell_type": "code",
      "metadata": {
        "colab": {
          "base_uri": "https://localhost:8080/"
        },
        "id": "QY58ahTo7QIz",
        "outputId": "d984738f-4dee-4e4a-9726-73711a99d060"
      },
      "source": [
        "ans = np.zeros((11, 11))\n",
        "(ans[:, 0], ans[:, -1], ans[0, :], ans[-1, :]) = (1, 1, 1, 1)\n",
        "ans[5, 5] = 9\n",
        "ans"
      ],
      "execution_count": null,
      "outputs": [
        {
          "output_type": "execute_result",
          "data": {
            "text/plain": [
              "array([[1., 1., 1., 1., 1., 1., 1., 1., 1., 1., 1.],\n",
              "       [1., 0., 0., 0., 0., 0., 0., 0., 0., 0., 1.],\n",
              "       [1., 0., 0., 0., 0., 0., 0., 0., 0., 0., 1.],\n",
              "       [1., 0., 0., 0., 0., 0., 0., 0., 0., 0., 1.],\n",
              "       [1., 0., 0., 0., 0., 0., 0., 0., 0., 0., 1.],\n",
              "       [1., 0., 0., 0., 0., 9., 0., 0., 0., 0., 1.],\n",
              "       [1., 0., 0., 0., 0., 0., 0., 0., 0., 0., 1.],\n",
              "       [1., 0., 0., 0., 0., 0., 0., 0., 0., 0., 1.],\n",
              "       [1., 0., 0., 0., 0., 0., 0., 0., 0., 0., 1.],\n",
              "       [1., 0., 0., 0., 0., 0., 0., 0., 0., 0., 1.],\n",
              "       [1., 1., 1., 1., 1., 1., 1., 1., 1., 1., 1.]])"
            ]
          },
          "metadata": {
            "tags": []
          },
          "execution_count": 138
        }
      ]
    },
    {
      "cell_type": "code",
      "metadata": {
        "colab": {
          "base_uri": "https://localhost:8080/"
        },
        "id": "Sya96VPd9MZ5",
        "outputId": "9f1438b8-b33a-4e72-fc5d-7816d19ab73c"
      },
      "source": [
        "ans = np.ones((11, 11))\n",
        "temp = np.zeros((9, 9))\n",
        "temp[4, 4] = 9\n",
        "ans[1:-1, 1:-1] = temp\n",
        "ans"
      ],
      "execution_count": null,
      "outputs": [
        {
          "output_type": "execute_result",
          "data": {
            "text/plain": [
              "array([[1., 1., 1., 1., 1., 1., 1., 1., 1., 1., 1.],\n",
              "       [1., 0., 0., 0., 0., 0., 0., 0., 0., 0., 1.],\n",
              "       [1., 0., 0., 0., 0., 0., 0., 0., 0., 0., 1.],\n",
              "       [1., 0., 0., 0., 0., 0., 0., 0., 0., 0., 1.],\n",
              "       [1., 0., 0., 0., 0., 0., 0., 0., 0., 0., 1.],\n",
              "       [1., 0., 0., 0., 0., 9., 0., 0., 0., 0., 1.],\n",
              "       [1., 0., 0., 0., 0., 0., 0., 0., 0., 0., 1.],\n",
              "       [1., 0., 0., 0., 0., 0., 0., 0., 0., 0., 1.],\n",
              "       [1., 0., 0., 0., 0., 0., 0., 0., 0., 0., 1.],\n",
              "       [1., 0., 0., 0., 0., 0., 0., 0., 0., 0., 1.],\n",
              "       [1., 1., 1., 1., 1., 1., 1., 1., 1., 1., 1.]])"
            ]
          },
          "metadata": {
            "tags": []
          },
          "execution_count": 139
        }
      ]
    },
    {
      "cell_type": "code",
      "metadata": {
        "colab": {
          "base_uri": "https://localhost:8080/"
        },
        "id": "iYnbPdF497J9",
        "outputId": "26203086-a43f-4fb4-b97e-c06a15379d39"
      },
      "source": [
        "# Error\n",
        "x = np.array([1, 2, 3])\n",
        "y = x\n",
        "y[0] = 32\n",
        "\n",
        "print(x)\n",
        "print(y)"
      ],
      "execution_count": null,
      "outputs": [
        {
          "output_type": "stream",
          "text": [
            "[32  2  3]\n",
            "[32  2  3]\n"
          ],
          "name": "stdout"
        }
      ]
    },
    {
      "cell_type": "code",
      "metadata": {
        "colab": {
          "base_uri": "https://localhost:8080/"
        },
        "id": "zO9arVeI-KVb",
        "outputId": "4751af42-3fb8-4eb4-8ae7-ae3955b63ffa"
      },
      "source": [
        "# Solution\n",
        "# Error\n",
        "x = np.array([1, 2, 3])\n",
        "y = x.copy()\n",
        "y[0] = 32\n",
        "\n",
        "print(x)\n",
        "print(y)"
      ],
      "execution_count": null,
      "outputs": [
        {
          "output_type": "stream",
          "text": [
            "[1 2 3]\n",
            "[32  2  3]\n"
          ],
          "name": "stdout"
        }
      ]
    },
    {
      "cell_type": "markdown",
      "metadata": {
        "id": "ryH_aWi3-Xl-"
      },
      "source": [
        "# Mathematics"
      ]
    },
    {
      "cell_type": "code",
      "metadata": {
        "colab": {
          "base_uri": "https://localhost:8080/"
        },
        "id": "lhU16G2J-bRO",
        "outputId": "fded5a73-fc79-4ef4-9bd2-caa74c14f102"
      },
      "source": [
        "a = np.array([1, 2, 3, 4])\n",
        "a"
      ],
      "execution_count": null,
      "outputs": [
        {
          "output_type": "execute_result",
          "data": {
            "text/plain": [
              "array([1, 2, 3, 4])"
            ]
          },
          "metadata": {
            "tags": []
          },
          "execution_count": 151
        }
      ]
    },
    {
      "cell_type": "code",
      "metadata": {
        "colab": {
          "base_uri": "https://localhost:8080/"
        },
        "id": "t0ehbC08-q_P",
        "outputId": "6f153089-23fa-4a3f-c186-2fd835b202ad"
      },
      "source": [
        "a + 2"
      ],
      "execution_count": null,
      "outputs": [
        {
          "output_type": "execute_result",
          "data": {
            "text/plain": [
              "array([3, 4, 5, 6])"
            ]
          },
          "metadata": {
            "tags": []
          },
          "execution_count": 152
        }
      ]
    },
    {
      "cell_type": "code",
      "metadata": {
        "colab": {
          "base_uri": "https://localhost:8080/"
        },
        "id": "wgu1yUnd-tP5",
        "outputId": "2204c005-f3c3-40bb-b457-55473293ec21"
      },
      "source": [
        "a * 2"
      ],
      "execution_count": null,
      "outputs": [
        {
          "output_type": "execute_result",
          "data": {
            "text/plain": [
              "array([2, 4, 6, 8])"
            ]
          },
          "metadata": {
            "tags": []
          },
          "execution_count": 153
        }
      ]
    },
    {
      "cell_type": "code",
      "metadata": {
        "colab": {
          "base_uri": "https://localhost:8080/"
        },
        "id": "OCKRI0d1-uup",
        "outputId": "3a4908d8-7bd4-4bf0-c9d3-6feeadb2c6bf"
      },
      "source": [
        "a / 33"
      ],
      "execution_count": null,
      "outputs": [
        {
          "output_type": "execute_result",
          "data": {
            "text/plain": [
              "array([0.03030303, 0.06060606, 0.09090909, 0.12121212])"
            ]
          },
          "metadata": {
            "tags": []
          },
          "execution_count": 154
        }
      ]
    },
    {
      "cell_type": "code",
      "metadata": {
        "colab": {
          "base_uri": "https://localhost:8080/"
        },
        "id": "wKf6x0yTAegk",
        "outputId": "98c98619-c511-4d8b-e52e-da26c358d26d"
      },
      "source": [
        "a ** 2"
      ],
      "execution_count": null,
      "outputs": [
        {
          "output_type": "execute_result",
          "data": {
            "text/plain": [
              "array([ 1,  4,  9, 16])"
            ]
          },
          "metadata": {
            "tags": []
          },
          "execution_count": 159
        }
      ]
    },
    {
      "cell_type": "code",
      "metadata": {
        "colab": {
          "base_uri": "https://localhost:8080/"
        },
        "id": "2q1s5Jku-3hZ",
        "outputId": "9bcd514e-6f95-4f83-c7f2-09ae0d153f6f"
      },
      "source": [
        "b = np.random.rand(1, 4)\n",
        "b"
      ],
      "execution_count": null,
      "outputs": [
        {
          "output_type": "execute_result",
          "data": {
            "text/plain": [
              "array([[0.55141684, 0.2504683 , 0.2510657 , 0.42052107]])"
            ]
          },
          "metadata": {
            "tags": []
          },
          "execution_count": 157
        }
      ]
    },
    {
      "cell_type": "code",
      "metadata": {
        "colab": {
          "base_uri": "https://localhost:8080/"
        },
        "id": "ZEC_dgxzAZrh",
        "outputId": "efc6891b-da21-4fd3-c5e5-58d171ffd4dc"
      },
      "source": [
        "a + b"
      ],
      "execution_count": null,
      "outputs": [
        {
          "output_type": "execute_result",
          "data": {
            "text/plain": [
              "array([[1.55141684, 2.2504683 , 3.2510657 , 4.42052107]])"
            ]
          },
          "metadata": {
            "tags": []
          },
          "execution_count": 158
        }
      ]
    },
    {
      "cell_type": "code",
      "metadata": {
        "colab": {
          "base_uri": "https://localhost:8080/"
        },
        "id": "9ezFW3QBAb3-",
        "outputId": "ff91b96e-1672-49b3-9f10-583650be1052"
      },
      "source": [
        "np.sin(a* b)"
      ],
      "execution_count": null,
      "outputs": [
        {
          "output_type": "execute_result",
          "data": {
            "text/plain": [
              "array([[0.5238946 , 0.48024727, 0.68397455, 0.99381388]])"
            ]
          },
          "metadata": {
            "tags": []
          },
          "execution_count": 160
        }
      ]
    },
    {
      "cell_type": "markdown",
      "metadata": {
        "id": "dK4RChU9Avmp"
      },
      "source": [
        "## Algebra"
      ]
    },
    {
      "cell_type": "code",
      "metadata": {
        "colab": {
          "base_uri": "https://localhost:8080/"
        },
        "id": "TQqNEjpZAxz4",
        "outputId": "776cac87-1ef5-444a-d389-c15d5d268cf4"
      },
      "source": [
        "a = np.ones((2, 3))\n",
        "a"
      ],
      "execution_count": null,
      "outputs": [
        {
          "output_type": "execute_result",
          "data": {
            "text/plain": [
              "array([[1., 1., 1.],\n",
              "       [1., 1., 1.]])"
            ]
          },
          "metadata": {
            "tags": []
          },
          "execution_count": 162
        }
      ]
    },
    {
      "cell_type": "code",
      "metadata": {
        "colab": {
          "base_uri": "https://localhost:8080/"
        },
        "id": "x1mfTRg4BAaD",
        "outputId": "fd8d0159-0d2e-4d4b-94e9-7279abfdf48e"
      },
      "source": [
        "b = np.full((3, 2), 2)\n",
        "b"
      ],
      "execution_count": null,
      "outputs": [
        {
          "output_type": "execute_result",
          "data": {
            "text/plain": [
              "array([[2, 2],\n",
              "       [2, 2],\n",
              "       [2, 2]])"
            ]
          },
          "metadata": {
            "tags": []
          },
          "execution_count": 164
        }
      ]
    },
    {
      "cell_type": "code",
      "metadata": {
        "colab": {
          "base_uri": "https://localhost:8080/"
        },
        "id": "ymDsnfNSBL9f",
        "outputId": "3fd2461d-57a0-44be-c03f-0b41c3f3589d"
      },
      "source": [
        "np.matmul(a, b)"
      ],
      "execution_count": null,
      "outputs": [
        {
          "output_type": "execute_result",
          "data": {
            "text/plain": [
              "array([[6., 6.],\n",
              "       [6., 6.]])"
            ]
          },
          "metadata": {
            "tags": []
          },
          "execution_count": 166
        }
      ]
    },
    {
      "cell_type": "code",
      "metadata": {
        "colab": {
          "base_uri": "https://localhost:8080/"
        },
        "id": "INWN6jyrBcwt",
        "outputId": "709b60c9-0e49-440a-be9d-eb559536fc9c"
      },
      "source": [
        "c = np.random.rand(3, 3)\n",
        "c"
      ],
      "execution_count": null,
      "outputs": [
        {
          "output_type": "execute_result",
          "data": {
            "text/plain": [
              "array([[0.93587929, 0.18420167, 0.96438426],\n",
              "       [0.80763974, 0.3016113 , 0.03368245],\n",
              "       [0.86031828, 0.32927449, 0.49279078]])"
            ]
          },
          "metadata": {
            "tags": []
          },
          "execution_count": 168
        }
      ]
    },
    {
      "cell_type": "code",
      "metadata": {
        "colab": {
          "base_uri": "https://localhost:8080/"
        },
        "id": "wlo23Nx2BmJE",
        "outputId": "37de8270-1a0b-4cbd-9e1b-3438359e0fcc"
      },
      "source": [
        "np.linalg.det(c)"
      ],
      "execution_count": null,
      "outputs": [
        {
          "output_type": "execute_result",
          "data": {
            "text/plain": [
              "0.06697084826393541"
            ]
          },
          "metadata": {
            "tags": []
          },
          "execution_count": 170
        }
      ]
    },
    {
      "cell_type": "markdown",
      "metadata": {
        "id": "MPpwRPJOB8M5"
      },
      "source": [
        "## Statistics"
      ]
    },
    {
      "cell_type": "code",
      "metadata": {
        "colab": {
          "base_uri": "https://localhost:8080/"
        },
        "id": "OhTUvqcNB_1E",
        "outputId": "1c9c79b1-1296-403c-dcc4-d818952d50a2"
      },
      "source": [
        "stats = np.array([[1, 5, 5], [5, 9, -1]])\n",
        "stats"
      ],
      "execution_count": null,
      "outputs": [
        {
          "output_type": "execute_result",
          "data": {
            "text/plain": [
              "array([[ 1,  5,  5],\n",
              "       [ 5,  9, -1]])"
            ]
          },
          "metadata": {
            "tags": []
          },
          "execution_count": 180
        }
      ]
    },
    {
      "cell_type": "code",
      "metadata": {
        "colab": {
          "base_uri": "https://localhost:8080/"
        },
        "id": "YASx2CRUCMzV",
        "outputId": "733ba097-0d50-46df-a138-28a1dcc4f0be"
      },
      "source": [
        "stats.min()"
      ],
      "execution_count": null,
      "outputs": [
        {
          "output_type": "execute_result",
          "data": {
            "text/plain": [
              "-1"
            ]
          },
          "metadata": {
            "tags": []
          },
          "execution_count": 181
        }
      ]
    },
    {
      "cell_type": "code",
      "metadata": {
        "colab": {
          "base_uri": "https://localhost:8080/"
        },
        "id": "Y3QJ81mjCXCe",
        "outputId": "06fc1b2c-0552-4ff9-e56c-773c2ae5f3f7"
      },
      "source": [
        "stats.min(axis=1)"
      ],
      "execution_count": null,
      "outputs": [
        {
          "output_type": "execute_result",
          "data": {
            "text/plain": [
              "array([ 1, -1])"
            ]
          },
          "metadata": {
            "tags": []
          },
          "execution_count": 193
        }
      ]
    },
    {
      "cell_type": "code",
      "metadata": {
        "colab": {
          "base_uri": "https://localhost:8080/"
        },
        "id": "BV6-eCdOC8Rg",
        "outputId": "5e1c67b5-6a12-4bf6-992b-4746990f87e5"
      },
      "source": [
        "stats.min(axis=0)"
      ],
      "execution_count": null,
      "outputs": [
        {
          "output_type": "execute_result",
          "data": {
            "text/plain": [
              "array([ 1,  5, -1])"
            ]
          },
          "metadata": {
            "tags": []
          },
          "execution_count": 194
        }
      ]
    },
    {
      "cell_type": "code",
      "metadata": {
        "colab": {
          "base_uri": "https://localhost:8080/"
        },
        "id": "Lv0MqP0jCRQY",
        "outputId": "3d436cf9-3f32-4471-fb6a-a68baa9e0e02"
      },
      "source": [
        "stats.max()"
      ],
      "execution_count": null,
      "outputs": [
        {
          "output_type": "execute_result",
          "data": {
            "text/plain": [
              "9"
            ]
          },
          "metadata": {
            "tags": []
          },
          "execution_count": 185
        }
      ]
    },
    {
      "cell_type": "code",
      "metadata": {
        "colab": {
          "base_uri": "https://localhost:8080/"
        },
        "id": "vU1Eu-LgCrqA",
        "outputId": "55dcc04b-7215-4fe4-cca3-0029074be352"
      },
      "source": [
        "stats.max(axis=1)"
      ],
      "execution_count": null,
      "outputs": [
        {
          "output_type": "execute_result",
          "data": {
            "text/plain": [
              "array([5, 9, 5])"
            ]
          },
          "metadata": {
            "tags": []
          },
          "execution_count": 187
        }
      ]
    },
    {
      "cell_type": "code",
      "metadata": {
        "colab": {
          "base_uri": "https://localhost:8080/"
        },
        "id": "UABYhukgDzit",
        "outputId": "1a1827a3-43a4-4a3e-e49c-b5ba97bb186c"
      },
      "source": [
        "stats.sum(axis=0)"
      ],
      "execution_count": null,
      "outputs": [
        {
          "output_type": "execute_result",
          "data": {
            "text/plain": [
              "array([ 6, 14,  4])"
            ]
          },
          "metadata": {
            "tags": []
          },
          "execution_count": 196
        }
      ]
    },
    {
      "cell_type": "markdown",
      "metadata": {
        "id": "n9d0pCiG-WFm"
      },
      "source": [
        "# Reorganizing arrays"
      ]
    },
    {
      "cell_type": "code",
      "metadata": {
        "colab": {
          "base_uri": "https://localhost:8080/"
        },
        "id": "h6RUv6NUESe7",
        "outputId": "09748eb6-b4c8-4dd6-b303-af6f4e7be660"
      },
      "source": [
        "a = np.array([[1, 2, 3, 4], [5, 6, 7, 8]])\n",
        "a"
      ],
      "execution_count": null,
      "outputs": [
        {
          "output_type": "execute_result",
          "data": {
            "text/plain": [
              "array([[1, 2, 3, 4],\n",
              "       [5, 6, 7, 8]])"
            ]
          },
          "metadata": {
            "tags": []
          },
          "execution_count": 198
        }
      ]
    },
    {
      "cell_type": "code",
      "metadata": {
        "colab": {
          "base_uri": "https://localhost:8080/"
        },
        "id": "f3QCSfIvEchb",
        "outputId": "dcf9c5c4-f088-42bb-ce53-12c9362d225d"
      },
      "source": [
        "a.reshape(8, 1)"
      ],
      "execution_count": null,
      "outputs": [
        {
          "output_type": "execute_result",
          "data": {
            "text/plain": [
              "array([[1],\n",
              "       [2],\n",
              "       [3],\n",
              "       [4],\n",
              "       [5],\n",
              "       [6],\n",
              "       [7],\n",
              "       [8]])"
            ]
          },
          "metadata": {
            "tags": []
          },
          "execution_count": 199
        }
      ]
    },
    {
      "cell_type": "code",
      "metadata": {
        "colab": {
          "base_uri": "https://localhost:8080/"
        },
        "id": "gA2b2QB0EhoC",
        "outputId": "035b2cee-7e97-4408-b611-aa4b29823c6f"
      },
      "source": [
        "a.reshape(2, 2, 2)"
      ],
      "execution_count": null,
      "outputs": [
        {
          "output_type": "execute_result",
          "data": {
            "text/plain": [
              "array([[[1, 2],\n",
              "        [3, 4]],\n",
              "\n",
              "       [[5, 6],\n",
              "        [7, 8]]])"
            ]
          },
          "metadata": {
            "tags": []
          },
          "execution_count": 202
        }
      ]
    },
    {
      "cell_type": "code",
      "metadata": {
        "colab": {
          "base_uri": "https://localhost:8080/"
        },
        "id": "OQ6YHZeZEnKr",
        "outputId": "b68f9796-d8d8-4e81-c872-1aaccd1f1a53"
      },
      "source": [
        "v1 = a[0, :]\n",
        "v2 = a[1, :]\n",
        "\n",
        "np.vstack([v1, v2, v2, v1])"
      ],
      "execution_count": null,
      "outputs": [
        {
          "output_type": "execute_result",
          "data": {
            "text/plain": [
              "array([[1, 2, 3, 4],\n",
              "       [5, 6, 7, 8],\n",
              "       [5, 6, 7, 8],\n",
              "       [1, 2, 3, 4]])"
            ]
          },
          "metadata": {
            "tags": []
          },
          "execution_count": 207
        }
      ]
    },
    {
      "cell_type": "code",
      "metadata": {
        "colab": {
          "base_uri": "https://localhost:8080/"
        },
        "id": "lKp6SCEOFPS4",
        "outputId": "86db3833-ed6c-4d04-aa90-2e3c6341abf2"
      },
      "source": [
        "v1 = v1.reshape((2, 2))\n",
        "v2 = v2.reshape((2, 2))\n",
        "\n",
        "np.hstack((v1, v2, v2 , v1))"
      ],
      "execution_count": null,
      "outputs": [
        {
          "output_type": "execute_result",
          "data": {
            "text/plain": [
              "array([[1, 2, 5, 6, 5, 6, 1, 2],\n",
              "       [3, 4, 7, 8, 7, 8, 3, 4]])"
            ]
          },
          "metadata": {
            "tags": []
          },
          "execution_count": 208
        }
      ]
    },
    {
      "cell_type": "markdown",
      "metadata": {
        "id": "J6abb13iFo3o"
      },
      "source": [
        "# Miscellaneous"
      ]
    },
    {
      "cell_type": "markdown",
      "metadata": {
        "id": "ScwoHfM9Fg0U"
      },
      "source": [
        "## Load data from file"
      ]
    },
    {
      "cell_type": "code",
      "metadata": {
        "colab": {
          "base_uri": "https://localhost:8080/"
        },
        "id": "_MJRxhtBFcxN",
        "outputId": "a754adf3-8e11-444c-f23a-886e7dc7758d"
      },
      "source": [
        "# txt files\n",
        "data = np.genfromtxt('data.txt', delimiter=',')\n",
        "data = data.astype('int32')\n",
        "data"
      ],
      "execution_count": null,
      "outputs": [
        {
          "output_type": "execute_result",
          "data": {
            "text/plain": [
              "array([[  -119,     36,     19,   1241,    244,    850,    237,      2,\n",
              "         81700],\n",
              "       [  -119,     36,     37,   1018,    213,    663,    204,      1,\n",
              "         67000],\n",
              "       [  -121,     38,     43,   1009,    225,    604,    218,      1,\n",
              "         67000],\n",
              "       [  -120,     35,     19,   2310,    471,   1341,    441,      3,\n",
              "        166900],\n",
              "       [  -122,     38,     15,   3080,    617,   1446,    599,      3,\n",
              "        194400],\n",
              "       [  -118,     34,     31,   2402,    632,   2830,    603,      2,\n",
              "        164200],\n",
              "       [  -118,     33,     45,    972,    249,   1288,    261,      2,\n",
              "        125000],\n",
              "       [  -119,     35,     37,    736,    166,    564,    138,      2,\n",
              "         58300],\n",
              "       [  -121,     37,     36,   1089,    182,    535,    170,      4,\n",
              "        252600],\n",
              "       [  -117,     32,     16,   3936,    694,   1935,    659,      4,\n",
              "        231200],\n",
              "       [  -117,     33,     27,   2097,    325,   1217,    331,      5,\n",
              "        222500],\n",
              "       [  -117,     33,     42,    161,     40,    157,     50,      2,\n",
              "        153100],\n",
              "       [  -120,     37,     15,    570,    123,    189,    107,      1,\n",
              "        181300],\n",
              "       [  -121,     38,     26,   3077,    607,   1603,    595,      2,\n",
              "        137500],\n",
              "       [  -118,     34,     26,   1590,    196,    654,    199,      6,\n",
              "        300000],\n",
              "       [  -122,     38,     35,   8814,   1307,   3450,   1258,      6,\n",
              "        414300],\n",
              "       [  -122,     37,     40,   1445,    256,    849,    255,      3,\n",
              "        126300],\n",
              "       [  -121,     38,     36,   1775,    296,    937,    305,      3,\n",
              "         83400],\n",
              "       [  -118,     34,     47,   2994,    543,   1651,    561,      3,\n",
              "        241500],\n",
              "       [  -122,     37,     45,   2021,    528,   1410,    480,      2,\n",
              "        115400],\n",
              "       [  -117,     33,     13,   6131,   1040,   4049,    940,      3,\n",
              "        150700],\n",
              "       [  -118,     34,     36,   1401,    218,    667,    225,      7,\n",
              "        484700],\n",
              "       [  -122,     37,     52,   3587,   1030,   2259,    979,      2,\n",
              "        250000],\n",
              "       [  -118,     33,     32,   2612,    418,   1030,    402,      6,\n",
              "        369200],\n",
              "       [  -118,     34,     19,   4845,   1609,   3751,   1539,      1,\n",
              "        350000],\n",
              "       [  -118,     34,     30,   3078,    954,   1561,    901,      3,\n",
              "        425000],\n",
              "       [  -119,     36,     14,   1195,    220,    568,    229,      3,\n",
              "        105600],\n",
              "       [  -118,     33,     34,   1617,    493,   1530,    500,      2,\n",
              "        172600],\n",
              "       [  -121,     39,     17,   3442,    705,   1693,    619,      2,\n",
              "        128900],\n",
              "       [  -118,     34,      5,  16181,   2971,   8152,   2651,      4,\n",
              "        141800],\n",
              "       [  -118,     33,     38,   1067,    170,    499,    169,      4,\n",
              "        183800],\n",
              "       [  -118,     34,     33,   2886,    726,   2650,    728,      2,\n",
              "        178700],\n",
              "       [  -122,     37,     52,   1560,    451,    700,    419,      2,\n",
              "        270800],\n",
              "       [  -118,     33,     34,   1478,    251,    956,    277,      5,\n",
              "        185300],\n",
              "       [  -118,     33,     31,    894,    203,    883,    190,      3,\n",
              "        141500],\n",
              "       [  -119,     34,     11,   5785,   1035,   2760,    985,      4,\n",
              "        232200],\n",
              "       [  -119,     36,     15,   1562,    275,    961,    287,      3,\n",
              "         83300],\n",
              "       [  -116,     32,     16,   2770,    406,   1269,    429,      6,\n",
              "        275000],\n",
              "       [  -118,     34,     37,   1980,    226,    697,    226,     15,\n",
              "        500001],\n",
              "       [  -117,     34,     36,    848,    186,    737,    169,      0,\n",
              "         79300],\n",
              "       [  -118,     34,     48,   1308,    286,    835,    294,      4,\n",
              "        214800]], dtype=int32)"
            ]
          },
          "metadata": {
            "tags": []
          },
          "execution_count": 216
        }
      ]
    },
    {
      "cell_type": "code",
      "metadata": {
        "colab": {
          "base_uri": "https://localhost:8080/"
        },
        "id": "HuxpB8nTGPVa",
        "outputId": "f8c7c095-b890-4d97-c1a6-b3c5b338bc72"
      },
      "source": [
        "data > 100 "
      ],
      "execution_count": null,
      "outputs": [
        {
          "output_type": "execute_result",
          "data": {
            "text/plain": [
              "array([[False, False, False,  True,  True,  True,  True, False,  True],\n",
              "       [False, False, False,  True,  True,  True,  True, False,  True],\n",
              "       [False, False, False,  True,  True,  True,  True, False,  True],\n",
              "       [False, False, False,  True,  True,  True,  True, False,  True],\n",
              "       [False, False, False,  True,  True,  True,  True, False,  True],\n",
              "       [False, False, False,  True,  True,  True,  True, False,  True],\n",
              "       [False, False, False,  True,  True,  True,  True, False,  True],\n",
              "       [False, False, False,  True,  True,  True,  True, False,  True],\n",
              "       [False, False, False,  True,  True,  True,  True, False,  True],\n",
              "       [False, False, False,  True,  True,  True,  True, False,  True],\n",
              "       [False, False, False,  True,  True,  True,  True, False,  True],\n",
              "       [False, False, False,  True, False,  True, False, False,  True],\n",
              "       [False, False, False,  True,  True,  True,  True, False,  True],\n",
              "       [False, False, False,  True,  True,  True,  True, False,  True],\n",
              "       [False, False, False,  True,  True,  True,  True, False,  True],\n",
              "       [False, False, False,  True,  True,  True,  True, False,  True],\n",
              "       [False, False, False,  True,  True,  True,  True, False,  True],\n",
              "       [False, False, False,  True,  True,  True,  True, False,  True],\n",
              "       [False, False, False,  True,  True,  True,  True, False,  True],\n",
              "       [False, False, False,  True,  True,  True,  True, False,  True],\n",
              "       [False, False, False,  True,  True,  True,  True, False,  True],\n",
              "       [False, False, False,  True,  True,  True,  True, False,  True],\n",
              "       [False, False, False,  True,  True,  True,  True, False,  True],\n",
              "       [False, False, False,  True,  True,  True,  True, False,  True],\n",
              "       [False, False, False,  True,  True,  True,  True, False,  True],\n",
              "       [False, False, False,  True,  True,  True,  True, False,  True],\n",
              "       [False, False, False,  True,  True,  True,  True, False,  True],\n",
              "       [False, False, False,  True,  True,  True,  True, False,  True],\n",
              "       [False, False, False,  True,  True,  True,  True, False,  True],\n",
              "       [False, False, False,  True,  True,  True,  True, False,  True],\n",
              "       [False, False, False,  True,  True,  True,  True, False,  True],\n",
              "       [False, False, False,  True,  True,  True,  True, False,  True],\n",
              "       [False, False, False,  True,  True,  True,  True, False,  True],\n",
              "       [False, False, False,  True,  True,  True,  True, False,  True],\n",
              "       [False, False, False,  True,  True,  True,  True, False,  True],\n",
              "       [False, False, False,  True,  True,  True,  True, False,  True],\n",
              "       [False, False, False,  True,  True,  True,  True, False,  True],\n",
              "       [False, False, False,  True,  True,  True,  True, False,  True],\n",
              "       [False, False, False,  True,  True,  True,  True, False,  True],\n",
              "       [False, False, False,  True,  True,  True,  True, False,  True],\n",
              "       [False, False, False,  True,  True,  True,  True, False,  True]])"
            ]
          },
          "metadata": {
            "tags": []
          },
          "execution_count": 217
        }
      ]
    },
    {
      "cell_type": "code",
      "metadata": {
        "colab": {
          "base_uri": "https://localhost:8080/"
        },
        "id": "ovf-MNMGH_da",
        "outputId": "46534894-a501-4dd1-f2a4-d028c7230320"
      },
      "source": [
        "data[data > 100]"
      ],
      "execution_count": null,
      "outputs": [
        {
          "output_type": "execute_result",
          "data": {
            "text/plain": [
              "array([  1241,    244,    850,    237,  81700,   1018,    213,    663,\n",
              "          204,  67000,   1009,    225,    604,    218,  67000,   2310,\n",
              "          471,   1341,    441, 166900,   3080,    617,   1446,    599,\n",
              "       194400,   2402,    632,   2830,    603, 164200,    972,    249,\n",
              "         1288,    261, 125000,    736,    166,    564,    138,  58300,\n",
              "         1089,    182,    535,    170, 252600,   3936,    694,   1935,\n",
              "          659, 231200,   2097,    325,   1217,    331, 222500,    161,\n",
              "          157, 153100,    570,    123,    189,    107, 181300,   3077,\n",
              "          607,   1603,    595, 137500,   1590,    196,    654,    199,\n",
              "       300000,   8814,   1307,   3450,   1258, 414300,   1445,    256,\n",
              "          849,    255, 126300,   1775,    296,    937,    305,  83400,\n",
              "         2994,    543,   1651,    561, 241500,   2021,    528,   1410,\n",
              "          480, 115400,   6131,   1040,   4049,    940, 150700,   1401,\n",
              "          218,    667,    225, 484700,   3587,   1030,   2259,    979,\n",
              "       250000,   2612,    418,   1030,    402, 369200,   4845,   1609,\n",
              "         3751,   1539, 350000,   3078,    954,   1561,    901, 425000,\n",
              "         1195,    220,    568,    229, 105600,   1617,    493,   1530,\n",
              "          500, 172600,   3442,    705,   1693,    619, 128900,  16181,\n",
              "         2971,   8152,   2651, 141800,   1067,    170,    499,    169,\n",
              "       183800,   2886,    726,   2650,    728, 178700,   1560,    451,\n",
              "          700,    419, 270800,   1478,    251,    956,    277, 185300,\n",
              "          894,    203,    883,    190, 141500,   5785,   1035,   2760,\n",
              "          985, 232200,   1562,    275,    961,    287,  83300,   2770,\n",
              "          406,   1269,    429, 275000,   1980,    226,    697,    226,\n",
              "       500001,    848,    186,    737,    169,  79300,   1308,    286,\n",
              "          835,    294, 214800], dtype=int32)"
            ]
          },
          "metadata": {
            "tags": []
          },
          "execution_count": 218
        }
      ]
    },
    {
      "cell_type": "markdown",
      "metadata": {
        "id": "kJlP2cxqJRaQ"
      },
      "source": [
        "## Boolean masking & Advance Indexing"
      ]
    },
    {
      "cell_type": "code",
      "metadata": {
        "colab": {
          "base_uri": "https://localhost:8080/"
        },
        "id": "XH3QEf0yJAVt",
        "outputId": "ef3487fc-29a0-494b-ab07-b86cf46ebd99"
      },
      "source": [
        "a"
      ],
      "execution_count": null,
      "outputs": [
        {
          "output_type": "execute_result",
          "data": {
            "text/plain": [
              "array([[1, 2, 3, 4],\n",
              "       [5, 6, 7, 8]])"
            ]
          },
          "metadata": {
            "tags": []
          },
          "execution_count": 233
        }
      ]
    },
    {
      "cell_type": "code",
      "metadata": {
        "colab": {
          "base_uri": "https://localhost:8080/"
        },
        "id": "l6ct41vzIbgU",
        "outputId": "e74a5181-e001-41b1-f633-281fbf8ae28b"
      },
      "source": [
        "a[:, [0, -1]]"
      ],
      "execution_count": null,
      "outputs": [
        {
          "output_type": "execute_result",
          "data": {
            "text/plain": [
              "array([[1, 4],\n",
              "       [5, 8]])"
            ]
          },
          "metadata": {
            "tags": []
          },
          "execution_count": 231
        }
      ]
    },
    {
      "cell_type": "code",
      "metadata": {
        "colab": {
          "base_uri": "https://localhost:8080/"
        },
        "id": "sesZw3-MI6SV",
        "outputId": "fb5cb04c-7843-41c0-cff8-c72581b1a740"
      },
      "source": [
        "a[:, [False, False, True, False]]"
      ],
      "execution_count": null,
      "outputs": [
        {
          "output_type": "execute_result",
          "data": {
            "text/plain": [
              "array([[3],\n",
              "       [7]])"
            ]
          },
          "metadata": {
            "tags": []
          },
          "execution_count": 232
        }
      ]
    },
    {
      "cell_type": "code",
      "metadata": {
        "colab": {
          "base_uri": "https://localhost:8080/"
        },
        "id": "IU1Zl8rVJktt",
        "outputId": "89df214b-df35-4eed-e101-2068b3c6a812"
      },
      "source": [
        "np.any(data > 50, axis=0)"
      ],
      "execution_count": null,
      "outputs": [
        {
          "output_type": "execute_result",
          "data": {
            "text/plain": [
              "array([False, False,  True,  True,  True,  True,  True, False,  True])"
            ]
          },
          "metadata": {
            "tags": []
          },
          "execution_count": 239
        }
      ]
    },
    {
      "cell_type": "code",
      "metadata": {
        "colab": {
          "base_uri": "https://localhost:8080/"
        },
        "id": "pJA8WrsGKOc7",
        "outputId": "d10c6706-bc96-4987-8a24-e8f78d40c275"
      },
      "source": [
        "np.all(data > 50, axis=0)"
      ],
      "execution_count": null,
      "outputs": [
        {
          "output_type": "execute_result",
          "data": {
            "text/plain": [
              "array([False, False, False,  True, False,  True, False, False,  True])"
            ]
          },
          "metadata": {
            "tags": []
          },
          "execution_count": 240
        }
      ]
    },
    {
      "cell_type": "code",
      "metadata": {
        "colab": {
          "base_uri": "https://localhost:8080/"
        },
        "id": "6ACvMvFiKQid",
        "outputId": "9cf4ae6b-f228-442f-8b72-c47274bf0d4b"
      },
      "source": [
        "(~(data < 50) & (data < 100))"
      ],
      "execution_count": null,
      "outputs": [
        {
          "output_type": "execute_result",
          "data": {
            "text/plain": [
              "array([[False, False, False, False, False, False, False, False, False],\n",
              "       [False, False, False, False, False, False, False, False, False],\n",
              "       [False, False, False, False, False, False, False, False, False],\n",
              "       [False, False, False, False, False, False, False, False, False],\n",
              "       [False, False, False, False, False, False, False, False, False],\n",
              "       [False, False, False, False, False, False, False, False, False],\n",
              "       [False, False, False, False, False, False, False, False, False],\n",
              "       [False, False, False, False, False, False, False, False, False],\n",
              "       [False, False, False, False, False, False, False, False, False],\n",
              "       [False, False, False, False, False, False, False, False, False],\n",
              "       [False, False, False, False, False, False, False, False, False],\n",
              "       [False, False, False, False, False, False,  True, False, False],\n",
              "       [False, False, False, False, False, False, False, False, False],\n",
              "       [False, False, False, False, False, False, False, False, False],\n",
              "       [False, False, False, False, False, False, False, False, False],\n",
              "       [False, False, False, False, False, False, False, False, False],\n",
              "       [False, False, False, False, False, False, False, False, False],\n",
              "       [False, False, False, False, False, False, False, False, False],\n",
              "       [False, False, False, False, False, False, False, False, False],\n",
              "       [False, False, False, False, False, False, False, False, False],\n",
              "       [False, False, False, False, False, False, False, False, False],\n",
              "       [False, False, False, False, False, False, False, False, False],\n",
              "       [False, False,  True, False, False, False, False, False, False],\n",
              "       [False, False, False, False, False, False, False, False, False],\n",
              "       [False, False, False, False, False, False, False, False, False],\n",
              "       [False, False, False, False, False, False, False, False, False],\n",
              "       [False, False, False, False, False, False, False, False, False],\n",
              "       [False, False, False, False, False, False, False, False, False],\n",
              "       [False, False, False, False, False, False, False, False, False],\n",
              "       [False, False, False, False, False, False, False, False, False],\n",
              "       [False, False, False, False, False, False, False, False, False],\n",
              "       [False, False, False, False, False, False, False, False, False],\n",
              "       [False, False,  True, False, False, False, False, False, False],\n",
              "       [False, False, False, False, False, False, False, False, False],\n",
              "       [False, False, False, False, False, False, False, False, False],\n",
              "       [False, False, False, False, False, False, False, False, False],\n",
              "       [False, False, False, False, False, False, False, False, False],\n",
              "       [False, False, False, False, False, False, False, False, False],\n",
              "       [False, False, False, False, False, False, False, False, False],\n",
              "       [False, False, False, False, False, False, False, False, False],\n",
              "       [False, False, False, False, False, False, False, False, False]])"
            ]
          },
          "metadata": {
            "tags": []
          },
          "execution_count": 245
        }
      ]
    },
    {
      "cell_type": "markdown",
      "metadata": {
        "id": "slRJPAooKp9P"
      },
      "source": [
        "Create a 6 * 5 matrix and the data should be from 1 to 30."
      ]
    },
    {
      "cell_type": "code",
      "metadata": {
        "colab": {
          "base_uri": "https://localhost:8080/"
        },
        "id": "UdTPhFr4LQNe",
        "outputId": "29b40dbd-d5ec-4ba3-83ed-b9821a09407e"
      },
      "source": [
        "ans = np.arange(30) + 1\n",
        "ans = ans.reshape((6, 5))\n",
        "ans"
      ],
      "execution_count": null,
      "outputs": [
        {
          "output_type": "execute_result",
          "data": {
            "text/plain": [
              "array([[ 1,  2,  3,  4,  5],\n",
              "       [ 6,  7,  8,  9, 10],\n",
              "       [11, 12, 13, 14, 15],\n",
              "       [16, 17, 18, 19, 20],\n",
              "       [21, 22, 23, 24, 25],\n",
              "       [26, 27, 28, 29, 30]])"
            ]
          },
          "metadata": {
            "tags": []
          },
          "execution_count": 251
        }
      ]
    },
    {
      "cell_type": "markdown",
      "metadata": {
        "id": "aEQkjTbELG4K"
      },
      "source": [
        "How to index `[[11, 12], [16, 17]]`?"
      ]
    },
    {
      "cell_type": "code",
      "metadata": {
        "colab": {
          "base_uri": "https://localhost:8080/"
        },
        "id": "sPJNFLLtLH-L",
        "outputId": "68c22b05-3136-4c71-a28d-9b5918e923e2"
      },
      "source": [
        "ans[2:4, 0:2]"
      ],
      "execution_count": null,
      "outputs": [
        {
          "output_type": "execute_result",
          "data": {
            "text/plain": [
              "array([[11, 12],\n",
              "       [16, 17]])"
            ]
          },
          "metadata": {
            "tags": []
          },
          "execution_count": 259
        }
      ]
    },
    {
      "cell_type": "markdown",
      "metadata": {
        "id": "cxPVPVI_MfwO"
      },
      "source": [
        "How to index [2, 8, 14, 20]?"
      ]
    },
    {
      "cell_type": "code",
      "metadata": {
        "colab": {
          "base_uri": "https://localhost:8080/"
        },
        "id": "1x_G4YaaMST-",
        "outputId": "9fbd2310-491c-4193-f5b8-579ceeee4c8d"
      },
      "source": [
        "ans.reshape((1, 30))[0][1:20:6]"
      ],
      "execution_count": null,
      "outputs": [
        {
          "output_type": "execute_result",
          "data": {
            "text/plain": [
              "array([ 2,  8, 14, 20])"
            ]
          },
          "metadata": {
            "tags": []
          },
          "execution_count": 272
        }
      ]
    },
    {
      "cell_type": "markdown",
      "metadata": {
        "id": "4nWt3yPONqyJ"
      },
      "source": [
        "How to index [4, 5, 24, 25, 29, 30]?"
      ]
    },
    {
      "cell_type": "code",
      "metadata": {
        "colab": {
          "base_uri": "https://localhost:8080/"
        },
        "id": "2mo7g-HkNysE",
        "outputId": "88a4b9fe-031c-49e5-bb17-d20a39d1f1c9"
      },
      "source": [
        "ans[[0, -2, -1], 3:]"
      ],
      "execution_count": null,
      "outputs": [
        {
          "output_type": "execute_result",
          "data": {
            "text/plain": [
              "array([[ 4,  5],\n",
              "       [24, 25],\n",
              "       [29, 30]])"
            ]
          },
          "metadata": {
            "tags": []
          },
          "execution_count": 277
        }
      ]
    }
  ]
}